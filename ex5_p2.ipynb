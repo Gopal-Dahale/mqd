{
 "cells": [
  {
   "cell_type": "markdown",
   "id": "27be7521-7848-4601-aac8-3836411f2d83",
   "metadata": {},
   "source": [
    "## Jacobi Identity"
   ]
  },
  {
   "cell_type": "code",
   "execution_count": 18,
   "id": "57828c21-a0e7-4158-b2b2-5d0274f75cd0",
   "metadata": {},
   "outputs": [],
   "source": [
    "import sympy as sp\n",
    "from sympy import latex\n",
    "from IPython.display import display, Math\n",
    "\n",
    "def disp(lhs, expr):\n",
    "    # print function without arguments for nice display\n",
    "    functions = expr.atoms(sp.Function)\n",
    "    reps = {}\n",
    "\n",
    "    for fun in functions:\n",
    "        reps[fun] = sp.Symbol(fun.name)\n",
    "\n",
    "    display(Math(f'{lhs} = '+latex(expr.subs(reps))))\n",
    "\n",
    "# Define symbolic variables\n",
    "q, p = sp.symbols('q p')\n",
    "\n",
    "# Define f, g, h as symbolic functions of q and p\n",
    "f = sp.Function('f')(q, p)\n",
    "g = sp.Function('g')(q, p)\n",
    "h = sp.Function('h')(q, p)\n",
    "\n",
    "# Define the Poisson bracket\n",
    "def poisson_bracket(F, G, q, p):\n",
    "    return sp.diff(F, q) * sp.diff(G, p) - sp.diff(F, p) * sp.diff(G, q)\n",
    "\n",
    "# Compute inner brackets\n",
    "gh = poisson_bracket(g, h, q, p)\n",
    "hf = poisson_bracket(h, f, q, p)\n",
    "fg = poisson_bracket(f, g, q, p)"
   ]
  },
  {
   "cell_type": "code",
   "execution_count": 20,
   "id": "f7430c61-69f8-4d3e-acfe-7c47ab74e127",
   "metadata": {},
   "outputs": [
    {
     "data": {
      "text/latex": [
       "$\\displaystyle \\{f, g\\} = - \\frac{d}{d p} f \\frac{d}{d q} g + \\frac{d}{d q} f \\frac{d}{d p} g$"
      ],
      "text/plain": [
       "<IPython.core.display.Math object>"
      ]
     },
     "metadata": {},
     "output_type": "display_data"
    },
    {
     "data": {
      "text/latex": [
       "$\\displaystyle \\{g, h\\} = - \\frac{d}{d p} g \\frac{d}{d q} h + \\frac{d}{d q} g \\frac{d}{d p} h$"
      ],
      "text/plain": [
       "<IPython.core.display.Math object>"
      ]
     },
     "metadata": {},
     "output_type": "display_data"
    },
    {
     "data": {
      "text/latex": [
       "$\\displaystyle \\{h, f\\} = \\frac{d}{d p} f \\frac{d}{d q} h - \\frac{d}{d q} f \\frac{d}{d p} h$"
      ],
      "text/plain": [
       "<IPython.core.display.Math object>"
      ]
     },
     "metadata": {},
     "output_type": "display_data"
    }
   ],
   "source": [
    "disp(\"\\{f, g\\}\", fg)\n",
    "disp(\"\\{g, h\\}\", gh)\n",
    "disp(\"\\{h, f\\}\", hf)"
   ]
  },
  {
   "cell_type": "code",
   "execution_count": 21,
   "id": "e6dcd320-ac62-4224-8159-00003055dadc",
   "metadata": {},
   "outputs": [],
   "source": [
    "# Compute outer brackets\n",
    "f_gh = poisson_bracket(f, gh, q, p)\n",
    "g_hf = poisson_bracket(g, hf, q, p)\n",
    "h_fg = poisson_bracket(h, fg, q, p)"
   ]
  },
  {
   "cell_type": "code",
   "execution_count": 24,
   "id": "b4fc0947-d2a8-4e22-9020-4a7cf35c66c1",
   "metadata": {},
   "outputs": [
    {
     "data": {
      "text/latex": [
       "$\\displaystyle \\{f, \\{g, h\\}\\} = - \\left(- \\frac{d}{d p} g \\frac{d^{2}}{d q^{2}} h + \\frac{d}{d q} g \\frac{d^{2}}{d qd p} h + \\frac{d^{2}}{d q^{2}} g \\frac{d}{d p} h - \\frac{d}{d q} h \\frac{d^{2}}{d qd p} g\\right) \\frac{d}{d p} f + \\left(- \\frac{d}{d p} g \\frac{d^{2}}{d qd p} h - \\frac{d^{2}}{d p^{2}} g \\frac{d}{d q} h + \\frac{d}{d q} g \\frac{d^{2}}{d p^{2}} h + \\frac{d}{d p} h \\frac{d^{2}}{d qd p} g\\right) \\frac{d}{d q} f$"
      ],
      "text/plain": [
       "<IPython.core.display.Math object>"
      ]
     },
     "metadata": {},
     "output_type": "display_data"
    },
    {
     "data": {
      "text/latex": [
       "$\\displaystyle \\{g, \\{h, f\\}\\} = - \\left(\\frac{d}{d p} f \\frac{d^{2}}{d q^{2}} h - \\frac{d}{d q} f \\frac{d^{2}}{d qd p} h - \\frac{d^{2}}{d q^{2}} f \\frac{d}{d p} h + \\frac{d}{d q} h \\frac{d^{2}}{d qd p} f\\right) \\frac{d}{d p} g + \\left(\\frac{d}{d p} f \\frac{d^{2}}{d qd p} h + \\frac{d^{2}}{d p^{2}} f \\frac{d}{d q} h - \\frac{d}{d q} f \\frac{d^{2}}{d p^{2}} h - \\frac{d}{d p} h \\frac{d^{2}}{d qd p} f\\right) \\frac{d}{d q} g$"
      ],
      "text/plain": [
       "<IPython.core.display.Math object>"
      ]
     },
     "metadata": {},
     "output_type": "display_data"
    },
    {
     "data": {
      "text/latex": [
       "$\\displaystyle \\{h, \\{f, g\\}\\} = - \\left(- \\frac{d}{d p} f \\frac{d^{2}}{d q^{2}} g + \\frac{d}{d q} f \\frac{d^{2}}{d qd p} g + \\frac{d^{2}}{d q^{2}} f \\frac{d}{d p} g - \\frac{d}{d q} g \\frac{d^{2}}{d qd p} f\\right) \\frac{d}{d p} h + \\left(- \\frac{d}{d p} f \\frac{d^{2}}{d qd p} g - \\frac{d^{2}}{d p^{2}} f \\frac{d}{d q} g + \\frac{d}{d q} f \\frac{d^{2}}{d p^{2}} g + \\frac{d}{d p} g \\frac{d^{2}}{d qd p} f\\right) \\frac{d}{d q} h$"
      ],
      "text/plain": [
       "<IPython.core.display.Math object>"
      ]
     },
     "metadata": {},
     "output_type": "display_data"
    }
   ],
   "source": [
    "disp(\"\\{f, \\{g, h\\}\\}\", f_gh)\n",
    "disp(\"\\{g, \\{h, f\\}\\}\", g_hf)\n",
    "disp(\"\\{h, \\{f, g\\}\\}\", h_fg)"
   ]
  },
  {
   "cell_type": "code",
   "execution_count": 26,
   "id": "a5f8534f-9169-4eb2-84b2-c76a5c311d4e",
   "metadata": {},
   "outputs": [
    {
     "data": {
      "text/latex": [
       "$\\displaystyle \\{f, \\{g, h\\}\\} + \\{g, \\{h, f\\}\\} + \\{g, \\{f, g\\}\\} = 0$"
      ],
      "text/plain": [
       "<IPython.core.display.Math object>"
      ]
     },
     "metadata": {},
     "output_type": "display_data"
    }
   ],
   "source": [
    "# Sum the terms to verify the Jacobi identity\n",
    "jacobi = f_gh + g_hf + h_fg\n",
    "\n",
    "# Simplify the expression\n",
    "jacobi_simplified = sp.simplify(jacobi)\n",
    "\n",
    "disp(\"\\{f, \\{g, h\\}\\} + \\{g, \\{h, f\\}\\} + \\{g, \\{f, g\\}\\}\", jacobi_simplified)"
   ]
  }
 ],
 "metadata": {
  "kernelspec": {
   "display_name": "Python (jetix)",
   "language": "python",
   "name": "jetix"
  },
  "language_info": {
   "codemirror_mode": {
    "name": "ipython",
    "version": 3
   },
   "file_extension": ".py",
   "mimetype": "text/x-python",
   "name": "python",
   "nbconvert_exporter": "python",
   "pygments_lexer": "ipython3",
   "version": "3.10.0"
  }
 },
 "nbformat": 4,
 "nbformat_minor": 5
}
